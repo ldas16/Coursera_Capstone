{
 "cells": [
  {
   "cell_type": "markdown",
   "metadata": {},
   "source": [
    "# Week 3: Segmenting and Clustering Neighborhoods in Toronto"
   ]
  },
  {
   "cell_type": "markdown",
   "metadata": {},
   "source": [
    "## PART 1"
   ]
  },
  {
   "cell_type": "markdown",
   "metadata": {},
   "source": [
    "Libraries"
   ]
  },
  {
   "cell_type": "code",
   "execution_count": 46,
   "metadata": {},
   "outputs": [
    {
     "name": "stdout",
     "output_type": "stream",
     "text": [
      "Collecting package metadata (current_repodata.json): done\n",
      "Solving environment: done\n",
      "\n",
      "# All requested packages already installed.\n",
      "\n",
      "Libraries imported.\n"
     ]
    }
   ],
   "source": [
    "import numpy as np # library to handle data in a vectorized manner\n",
    "\n",
    "import pandas as pd # library for data analsysis\n",
    "pd.set_option('display.max_columns', None)\n",
    "pd.set_option('display.max_rows', None)\n",
    "\n",
    "import json # library to handle JSON files\n",
    "\n",
    "!conda install -c conda-forge geopy --yes # uncomment this line if you haven't completed the Foursquare API lab\n",
    "from geopy.geocoders import Nominatim # convert an address into latitude and longitude values\n",
    "\n",
    "import requests # library to handle requests\n",
    "from pandas.io.json import json_normalize # tranform JSON file into a pandas dataframe\n",
    "\n",
    "# Matplotlib and associated plotting modules\n",
    "import matplotlib.cm as cm\n",
    "import matplotlib.colors as colors\n",
    "\n",
    "# import k-means from clustering stage\n",
    "from sklearn.cluster import KMeans\n",
    "\n",
    "#!conda install -c conda-forge folium=0.5.0 --yes # uncomment this line if you haven't completed the Foursquare API lab\n",
    "import folium # map rendering library\n",
    "\n",
    "print('Libraries imported.')"
   ]
  },
  {
   "cell_type": "code",
   "execution_count": 45,
   "metadata": {},
   "outputs": [
    {
     "name": "stdout",
     "output_type": "stream",
     "text": [
      "Requirement already satisfied: bs4 in /home/jupyterlab/conda/envs/python/lib/python3.6/site-packages (0.0.1)\n",
      "Requirement already satisfied: beautifulsoup4 in /home/jupyterlab/conda/envs/python/lib/python3.6/site-packages (from bs4) (4.9.3)\n",
      "Requirement already satisfied: soupsieve>1.2; python_version >= \"3.0\" in /home/jupyterlab/conda/envs/python/lib/python3.6/site-packages (from beautifulsoup4->bs4) (2.2)\n",
      "Note: you may need to restart the kernel to use updated packages.\n"
     ]
    }
   ],
   "source": [
    "pip install bs4\n"
   ]
  },
  {
   "cell_type": "markdown",
   "metadata": {},
   "source": [
    "Read table from URL"
   ]
  },
  {
   "cell_type": "code",
   "execution_count": 47,
   "metadata": {},
   "outputs": [
    {
     "data": {
      "text/html": [
       "<div>\n",
       "<style scoped>\n",
       "    .dataframe tbody tr th:only-of-type {\n",
       "        vertical-align: middle;\n",
       "    }\n",
       "\n",
       "    .dataframe tbody tr th {\n",
       "        vertical-align: top;\n",
       "    }\n",
       "\n",
       "    .dataframe thead th {\n",
       "        text-align: right;\n",
       "    }\n",
       "</style>\n",
       "<table border=\"1\" class=\"dataframe\">\n",
       "  <thead>\n",
       "    <tr style=\"text-align: right;\">\n",
       "      <th></th>\n",
       "      <th>Postal Code</th>\n",
       "      <th>Borough</th>\n",
       "      <th>Neighborhood</th>\n",
       "    </tr>\n",
       "  </thead>\n",
       "  <tbody>\n",
       "    <tr>\n",
       "      <th>0</th>\n",
       "      <td>M1A</td>\n",
       "      <td>Not assigned</td>\n",
       "      <td>Not assigned</td>\n",
       "    </tr>\n",
       "    <tr>\n",
       "      <th>1</th>\n",
       "      <td>M2A</td>\n",
       "      <td>Not assigned</td>\n",
       "      <td>Not assigned</td>\n",
       "    </tr>\n",
       "    <tr>\n",
       "      <th>2</th>\n",
       "      <td>M3A</td>\n",
       "      <td>North York</td>\n",
       "      <td>Parkwoods</td>\n",
       "    </tr>\n",
       "    <tr>\n",
       "      <th>3</th>\n",
       "      <td>M4A</td>\n",
       "      <td>North York</td>\n",
       "      <td>Victoria Village</td>\n",
       "    </tr>\n",
       "    <tr>\n",
       "      <th>4</th>\n",
       "      <td>M5A</td>\n",
       "      <td>Downtown Toronto</td>\n",
       "      <td>Regent Park, Harbourfront</td>\n",
       "    </tr>\n",
       "  </tbody>\n",
       "</table>\n",
       "</div>"
      ],
      "text/plain": [
       "  Postal Code           Borough               Neighborhood\n",
       "0         M1A      Not assigned               Not assigned\n",
       "1         M2A      Not assigned               Not assigned\n",
       "2         M3A        North York                  Parkwoods\n",
       "3         M4A        North York           Victoria Village\n",
       "4         M5A  Downtown Toronto  Regent Park, Harbourfront"
      ]
     },
     "execution_count": 47,
     "metadata": {},
     "output_type": "execute_result"
    }
   ],
   "source": [
    "from bs4 import BeautifulSoup\n",
    "\n",
    "url='https://en.wikipedia.org/wiki/List_of_postal_codes_of_Canada:_M'\n",
    "response = requests.get(url)\n",
    "data = response.text\n",
    "soup = BeautifulSoup(data,'html.parser')\n",
    "table=soup.find('table')\n",
    "df = pd.read_html(str(table))[0]\n",
    "df.columns = ['Postal Code','Borough','Neighborhood']\n",
    "df.head()"
   ]
  },
  {
   "cell_type": "markdown",
   "metadata": {},
   "source": [
    "Eliminate cells with a borough that is Not assigned"
   ]
  },
  {
   "cell_type": "code",
   "execution_count": 48,
   "metadata": {},
   "outputs": [
    {
     "data": {
      "text/html": [
       "<div>\n",
       "<style scoped>\n",
       "    .dataframe tbody tr th:only-of-type {\n",
       "        vertical-align: middle;\n",
       "    }\n",
       "\n",
       "    .dataframe tbody tr th {\n",
       "        vertical-align: top;\n",
       "    }\n",
       "\n",
       "    .dataframe thead th {\n",
       "        text-align: right;\n",
       "    }\n",
       "</style>\n",
       "<table border=\"1\" class=\"dataframe\">\n",
       "  <thead>\n",
       "    <tr style=\"text-align: right;\">\n",
       "      <th></th>\n",
       "      <th>index</th>\n",
       "      <th>Postal Code</th>\n",
       "      <th>Borough</th>\n",
       "      <th>Neighborhood</th>\n",
       "    </tr>\n",
       "  </thead>\n",
       "  <tbody>\n",
       "    <tr>\n",
       "      <th>0</th>\n",
       "      <td>2</td>\n",
       "      <td>M3A</td>\n",
       "      <td>North York</td>\n",
       "      <td>Parkwoods</td>\n",
       "    </tr>\n",
       "    <tr>\n",
       "      <th>1</th>\n",
       "      <td>3</td>\n",
       "      <td>M4A</td>\n",
       "      <td>North York</td>\n",
       "      <td>Victoria Village</td>\n",
       "    </tr>\n",
       "    <tr>\n",
       "      <th>2</th>\n",
       "      <td>4</td>\n",
       "      <td>M5A</td>\n",
       "      <td>Downtown Toronto</td>\n",
       "      <td>Regent Park, Harbourfront</td>\n",
       "    </tr>\n",
       "    <tr>\n",
       "      <th>3</th>\n",
       "      <td>5</td>\n",
       "      <td>M6A</td>\n",
       "      <td>North York</td>\n",
       "      <td>Lawrence Manor, Lawrence Heights</td>\n",
       "    </tr>\n",
       "    <tr>\n",
       "      <th>4</th>\n",
       "      <td>6</td>\n",
       "      <td>M7A</td>\n",
       "      <td>Downtown Toronto</td>\n",
       "      <td>Queen's Park, Ontario Provincial Government</td>\n",
       "    </tr>\n",
       "  </tbody>\n",
       "</table>\n",
       "</div>"
      ],
      "text/plain": [
       "   index Postal Code           Borough  \\\n",
       "0      2         M3A        North York   \n",
       "1      3         M4A        North York   \n",
       "2      4         M5A  Downtown Toronto   \n",
       "3      5         M6A        North York   \n",
       "4      6         M7A  Downtown Toronto   \n",
       "\n",
       "                                  Neighborhood  \n",
       "0                                    Parkwoods  \n",
       "1                             Victoria Village  \n",
       "2                    Regent Park, Harbourfront  \n",
       "3             Lawrence Manor, Lawrence Heights  \n",
       "4  Queen's Park, Ontario Provincial Government  "
      ]
     },
     "execution_count": 48,
     "metadata": {},
     "output_type": "execute_result"
    }
   ],
   "source": [
    "df2=df[df['Borough'].str.contains(\"Not assigned\") == False].reset_index()\n",
    "df2.head()"
   ]
  },
  {
   "cell_type": "markdown",
   "metadata": {},
   "source": [
    "Combine neighborhoods"
   ]
  },
  {
   "cell_type": "code",
   "execution_count": 50,
   "metadata": {},
   "outputs": [
    {
     "data": {
      "text/html": [
       "<div>\n",
       "<style scoped>\n",
       "    .dataframe tbody tr th:only-of-type {\n",
       "        vertical-align: middle;\n",
       "    }\n",
       "\n",
       "    .dataframe tbody tr th {\n",
       "        vertical-align: top;\n",
       "    }\n",
       "\n",
       "    .dataframe thead th {\n",
       "        text-align: right;\n",
       "    }\n",
       "</style>\n",
       "<table border=\"1\" class=\"dataframe\">\n",
       "  <thead>\n",
       "    <tr style=\"text-align: right;\">\n",
       "      <th></th>\n",
       "      <th>Postal Code</th>\n",
       "      <th>Borough</th>\n",
       "      <th>Neighborhood</th>\n",
       "    </tr>\n",
       "  </thead>\n",
       "  <tbody>\n",
       "    <tr>\n",
       "      <th>0</th>\n",
       "      <td>M1B</td>\n",
       "      <td>Scarborough</td>\n",
       "      <td>Malvern, Rouge</td>\n",
       "    </tr>\n",
       "    <tr>\n",
       "      <th>1</th>\n",
       "      <td>M1C</td>\n",
       "      <td>Scarborough</td>\n",
       "      <td>Rouge Hill, Port Union, Highland Creek</td>\n",
       "    </tr>\n",
       "    <tr>\n",
       "      <th>2</th>\n",
       "      <td>M1E</td>\n",
       "      <td>Scarborough</td>\n",
       "      <td>Guildwood, Morningside, West Hill</td>\n",
       "    </tr>\n",
       "    <tr>\n",
       "      <th>3</th>\n",
       "      <td>M1G</td>\n",
       "      <td>Scarborough</td>\n",
       "      <td>Woburn</td>\n",
       "    </tr>\n",
       "    <tr>\n",
       "      <th>4</th>\n",
       "      <td>M1H</td>\n",
       "      <td>Scarborough</td>\n",
       "      <td>Cedarbrae</td>\n",
       "    </tr>\n",
       "  </tbody>\n",
       "</table>\n",
       "</div>"
      ],
      "text/plain": [
       "  Postal Code      Borough                            Neighborhood\n",
       "0         M1B  Scarborough                          Malvern, Rouge\n",
       "1         M1C  Scarborough  Rouge Hill, Port Union, Highland Creek\n",
       "2         M1E  Scarborough       Guildwood, Morningside, West Hill\n",
       "3         M1G  Scarborough                                  Woburn\n",
       "4         M1H  Scarborough                               Cedarbrae"
      ]
     },
     "execution_count": 50,
     "metadata": {},
     "output_type": "execute_result"
    }
   ],
   "source": [
    "df3= df2.groupby(['Postal Code', 'Borough'])['Neighborhood'].apply(', '.join).reset_index()\n",
    "df3.head()"
   ]
  },
  {
   "cell_type": "markdown",
   "metadata": {},
   "source": [
    "Number of rows of the dataframe"
   ]
  },
  {
   "cell_type": "code",
   "execution_count": 43,
   "metadata": {},
   "outputs": [
    {
     "data": {
      "text/plain": [
       "(103, 3)"
      ]
     },
     "execution_count": 43,
     "metadata": {},
     "output_type": "execute_result"
    }
   ],
   "source": [
    "df3.shape"
   ]
  },
  {
   "cell_type": "markdown",
   "metadata": {},
   "source": [
    "## PART 2"
   ]
  },
  {
   "cell_type": "markdown",
   "metadata": {},
   "source": [
    "Read csv file"
   ]
  },
  {
   "cell_type": "code",
   "execution_count": 51,
   "metadata": {},
   "outputs": [
    {
     "data": {
      "text/html": [
       "<div>\n",
       "<style scoped>\n",
       "    .dataframe tbody tr th:only-of-type {\n",
       "        vertical-align: middle;\n",
       "    }\n",
       "\n",
       "    .dataframe tbody tr th {\n",
       "        vertical-align: top;\n",
       "    }\n",
       "\n",
       "    .dataframe thead th {\n",
       "        text-align: right;\n",
       "    }\n",
       "</style>\n",
       "<table border=\"1\" class=\"dataframe\">\n",
       "  <thead>\n",
       "    <tr style=\"text-align: right;\">\n",
       "      <th></th>\n",
       "      <th>Postal Code</th>\n",
       "      <th>Latitude</th>\n",
       "      <th>Longitude</th>\n",
       "    </tr>\n",
       "  </thead>\n",
       "  <tbody>\n",
       "    <tr>\n",
       "      <th>0</th>\n",
       "      <td>M1B</td>\n",
       "      <td>43.806686</td>\n",
       "      <td>-79.194353</td>\n",
       "    </tr>\n",
       "    <tr>\n",
       "      <th>1</th>\n",
       "      <td>M1C</td>\n",
       "      <td>43.784535</td>\n",
       "      <td>-79.160497</td>\n",
       "    </tr>\n",
       "    <tr>\n",
       "      <th>2</th>\n",
       "      <td>M1E</td>\n",
       "      <td>43.763573</td>\n",
       "      <td>-79.188711</td>\n",
       "    </tr>\n",
       "    <tr>\n",
       "      <th>3</th>\n",
       "      <td>M1G</td>\n",
       "      <td>43.770992</td>\n",
       "      <td>-79.216917</td>\n",
       "    </tr>\n",
       "    <tr>\n",
       "      <th>4</th>\n",
       "      <td>M1H</td>\n",
       "      <td>43.773136</td>\n",
       "      <td>-79.239476</td>\n",
       "    </tr>\n",
       "  </tbody>\n",
       "</table>\n",
       "</div>"
      ],
      "text/plain": [
       "  Postal Code   Latitude  Longitude\n",
       "0         M1B  43.806686 -79.194353\n",
       "1         M1C  43.784535 -79.160497\n",
       "2         M1E  43.763573 -79.188711\n",
       "3         M1G  43.770992 -79.216917\n",
       "4         M1H  43.773136 -79.239476"
      ]
     },
     "execution_count": 51,
     "metadata": {},
     "output_type": "execute_result"
    }
   ],
   "source": [
    "df4=pd.read_csv('https://cocl.us/Geospatial_data')\n",
    "df4.head()"
   ]
  },
  {
   "cell_type": "markdown",
   "metadata": {},
   "source": [
    "Merge tables"
   ]
  },
  {
   "cell_type": "code",
   "execution_count": 52,
   "metadata": {},
   "outputs": [
    {
     "data": {
      "text/html": [
       "<div>\n",
       "<style scoped>\n",
       "    .dataframe tbody tr th:only-of-type {\n",
       "        vertical-align: middle;\n",
       "    }\n",
       "\n",
       "    .dataframe tbody tr th {\n",
       "        vertical-align: top;\n",
       "    }\n",
       "\n",
       "    .dataframe thead th {\n",
       "        text-align: right;\n",
       "    }\n",
       "</style>\n",
       "<table border=\"1\" class=\"dataframe\">\n",
       "  <thead>\n",
       "    <tr style=\"text-align: right;\">\n",
       "      <th></th>\n",
       "      <th>Postal Code</th>\n",
       "      <th>Borough</th>\n",
       "      <th>Neighborhood</th>\n",
       "      <th>Latitude</th>\n",
       "      <th>Longitude</th>\n",
       "    </tr>\n",
       "  </thead>\n",
       "  <tbody>\n",
       "    <tr>\n",
       "      <th>0</th>\n",
       "      <td>M1B</td>\n",
       "      <td>Scarborough</td>\n",
       "      <td>Malvern, Rouge</td>\n",
       "      <td>43.806686</td>\n",
       "      <td>-79.194353</td>\n",
       "    </tr>\n",
       "    <tr>\n",
       "      <th>1</th>\n",
       "      <td>M1C</td>\n",
       "      <td>Scarborough</td>\n",
       "      <td>Rouge Hill, Port Union, Highland Creek</td>\n",
       "      <td>43.784535</td>\n",
       "      <td>-79.160497</td>\n",
       "    </tr>\n",
       "    <tr>\n",
       "      <th>2</th>\n",
       "      <td>M1E</td>\n",
       "      <td>Scarborough</td>\n",
       "      <td>Guildwood, Morningside, West Hill</td>\n",
       "      <td>43.763573</td>\n",
       "      <td>-79.188711</td>\n",
       "    </tr>\n",
       "    <tr>\n",
       "      <th>3</th>\n",
       "      <td>M1G</td>\n",
       "      <td>Scarborough</td>\n",
       "      <td>Woburn</td>\n",
       "      <td>43.770992</td>\n",
       "      <td>-79.216917</td>\n",
       "    </tr>\n",
       "    <tr>\n",
       "      <th>4</th>\n",
       "      <td>M1H</td>\n",
       "      <td>Scarborough</td>\n",
       "      <td>Cedarbrae</td>\n",
       "      <td>43.773136</td>\n",
       "      <td>-79.239476</td>\n",
       "    </tr>\n",
       "  </tbody>\n",
       "</table>\n",
       "</div>"
      ],
      "text/plain": [
       "  Postal Code      Borough                            Neighborhood   Latitude  \\\n",
       "0         M1B  Scarborough                          Malvern, Rouge  43.806686   \n",
       "1         M1C  Scarborough  Rouge Hill, Port Union, Highland Creek  43.784535   \n",
       "2         M1E  Scarborough       Guildwood, Morningside, West Hill  43.763573   \n",
       "3         M1G  Scarborough                                  Woburn  43.770992   \n",
       "4         M1H  Scarborough                               Cedarbrae  43.773136   \n",
       "\n",
       "   Longitude  \n",
       "0 -79.194353  \n",
       "1 -79.160497  \n",
       "2 -79.188711  \n",
       "3 -79.216917  \n",
       "4 -79.239476  "
      ]
     },
     "execution_count": 52,
     "metadata": {},
     "output_type": "execute_result"
    }
   ],
   "source": [
    "df5 = pd.merge(df3, df4, on = 'Postal Code')\n",
    "df5.head()"
   ]
  },
  {
   "cell_type": "markdown",
   "metadata": {},
   "source": [
    "Number of rows of the dataframe"
   ]
  },
  {
   "cell_type": "code",
   "execution_count": 54,
   "metadata": {},
   "outputs": [
    {
     "data": {
      "text/plain": [
       "(103, 5)"
      ]
     },
     "execution_count": 54,
     "metadata": {},
     "output_type": "execute_result"
    }
   ],
   "source": [
    "df5.shape"
   ]
  },
  {
   "cell_type": "markdown",
   "metadata": {},
   "source": [
    "## PART 3"
   ]
  },
  {
   "cell_type": "markdown",
   "metadata": {},
   "source": [
    "Select only boroughs that contain the word Toronto"
   ]
  },
  {
   "cell_type": "code",
   "execution_count": 56,
   "metadata": {},
   "outputs": [
    {
     "data": {
      "text/html": [
       "<div>\n",
       "<style scoped>\n",
       "    .dataframe tbody tr th:only-of-type {\n",
       "        vertical-align: middle;\n",
       "    }\n",
       "\n",
       "    .dataframe tbody tr th {\n",
       "        vertical-align: top;\n",
       "    }\n",
       "\n",
       "    .dataframe thead th {\n",
       "        text-align: right;\n",
       "    }\n",
       "</style>\n",
       "<table border=\"1\" class=\"dataframe\">\n",
       "  <thead>\n",
       "    <tr style=\"text-align: right;\">\n",
       "      <th></th>\n",
       "      <th>Postal Code</th>\n",
       "      <th>Borough</th>\n",
       "      <th>Neighborhood</th>\n",
       "      <th>Latitude</th>\n",
       "      <th>Longitude</th>\n",
       "    </tr>\n",
       "  </thead>\n",
       "  <tbody>\n",
       "    <tr>\n",
       "      <th>0</th>\n",
       "      <td>M4E</td>\n",
       "      <td>East Toronto</td>\n",
       "      <td>The Beaches</td>\n",
       "      <td>43.676357</td>\n",
       "      <td>-79.293031</td>\n",
       "    </tr>\n",
       "    <tr>\n",
       "      <th>1</th>\n",
       "      <td>M4K</td>\n",
       "      <td>East Toronto</td>\n",
       "      <td>The Danforth West, Riverdale</td>\n",
       "      <td>43.679557</td>\n",
       "      <td>-79.352188</td>\n",
       "    </tr>\n",
       "    <tr>\n",
       "      <th>2</th>\n",
       "      <td>M4L</td>\n",
       "      <td>East Toronto</td>\n",
       "      <td>India Bazaar, The Beaches West</td>\n",
       "      <td>43.668999</td>\n",
       "      <td>-79.315572</td>\n",
       "    </tr>\n",
       "    <tr>\n",
       "      <th>3</th>\n",
       "      <td>M4M</td>\n",
       "      <td>East Toronto</td>\n",
       "      <td>Studio District</td>\n",
       "      <td>43.659526</td>\n",
       "      <td>-79.340923</td>\n",
       "    </tr>\n",
       "    <tr>\n",
       "      <th>4</th>\n",
       "      <td>M4N</td>\n",
       "      <td>Central Toronto</td>\n",
       "      <td>Lawrence Park</td>\n",
       "      <td>43.728020</td>\n",
       "      <td>-79.388790</td>\n",
       "    </tr>\n",
       "  </tbody>\n",
       "</table>\n",
       "</div>"
      ],
      "text/plain": [
       "  Postal Code          Borough                    Neighborhood   Latitude  \\\n",
       "0         M4E     East Toronto                     The Beaches  43.676357   \n",
       "1         M4K     East Toronto    The Danforth West, Riverdale  43.679557   \n",
       "2         M4L     East Toronto  India Bazaar, The Beaches West  43.668999   \n",
       "3         M4M     East Toronto                 Studio District  43.659526   \n",
       "4         M4N  Central Toronto                   Lawrence Park  43.728020   \n",
       "\n",
       "   Longitude  \n",
       "0 -79.293031  \n",
       "1 -79.352188  \n",
       "2 -79.315572  \n",
       "3 -79.340923  \n",
       "4 -79.388790  "
      ]
     },
     "execution_count": 56,
     "metadata": {},
     "output_type": "execute_result"
    }
   ],
   "source": [
    "df6=df5[df5['Borough'].str.contains('Toronto')]\n",
    "df7=df6.reset_index(drop=True)\n",
    "df7.head()"
   ]
  },
  {
   "cell_type": "markdown",
   "metadata": {},
   "source": [
    "Number of rows of the dataframe"
   ]
  },
  {
   "cell_type": "code",
   "execution_count": 57,
   "metadata": {},
   "outputs": [
    {
     "data": {
      "text/plain": [
       "(39, 5)"
      ]
     },
     "execution_count": 57,
     "metadata": {},
     "output_type": "execute_result"
    }
   ],
   "source": [
    "df7.shape"
   ]
  },
  {
   "cell_type": "markdown",
   "metadata": {},
   "source": [
    "Clustering the data with Borough as label"
   ]
  },
  {
   "cell_type": "code",
   "execution_count": 58,
   "metadata": {},
   "outputs": [
    {
     "data": {
      "text/plain": [
       "Downtown Toronto    19\n",
       "Central Toronto      9\n",
       "West Toronto         6\n",
       "East Toronto         5\n",
       "Name: Borough, dtype: int64"
      ]
     },
     "execution_count": 58,
     "metadata": {},
     "output_type": "execute_result"
    }
   ],
   "source": [
    "df7['Borough'].value_counts()"
   ]
  },
  {
   "cell_type": "code",
   "execution_count": 59,
   "metadata": {},
   "outputs": [
    {
     "data": {
      "text/html": [
       "<div>\n",
       "<style scoped>\n",
       "    .dataframe tbody tr th:only-of-type {\n",
       "        vertical-align: middle;\n",
       "    }\n",
       "\n",
       "    .dataframe tbody tr th {\n",
       "        vertical-align: top;\n",
       "    }\n",
       "\n",
       "    .dataframe thead th {\n",
       "        text-align: right;\n",
       "    }\n",
       "</style>\n",
       "<table border=\"1\" class=\"dataframe\">\n",
       "  <thead>\n",
       "    <tr style=\"text-align: right;\">\n",
       "      <th></th>\n",
       "      <th>Postal Code</th>\n",
       "      <th>Borough</th>\n",
       "      <th>Neighborhood</th>\n",
       "      <th>Latitude</th>\n",
       "      <th>Longitude</th>\n",
       "      <th>Label</th>\n",
       "    </tr>\n",
       "  </thead>\n",
       "  <tbody>\n",
       "    <tr>\n",
       "      <th>0</th>\n",
       "      <td>M4E</td>\n",
       "      <td>East Toronto</td>\n",
       "      <td>The Beaches</td>\n",
       "      <td>43.676357</td>\n",
       "      <td>-79.293031</td>\n",
       "      <td>4</td>\n",
       "    </tr>\n",
       "    <tr>\n",
       "      <th>1</th>\n",
       "      <td>M4K</td>\n",
       "      <td>East Toronto</td>\n",
       "      <td>The Danforth West, Riverdale</td>\n",
       "      <td>43.679557</td>\n",
       "      <td>-79.352188</td>\n",
       "      <td>4</td>\n",
       "    </tr>\n",
       "    <tr>\n",
       "      <th>2</th>\n",
       "      <td>M4L</td>\n",
       "      <td>East Toronto</td>\n",
       "      <td>India Bazaar, The Beaches West</td>\n",
       "      <td>43.668999</td>\n",
       "      <td>-79.315572</td>\n",
       "      <td>4</td>\n",
       "    </tr>\n",
       "    <tr>\n",
       "      <th>3</th>\n",
       "      <td>M4M</td>\n",
       "      <td>East Toronto</td>\n",
       "      <td>Studio District</td>\n",
       "      <td>43.659526</td>\n",
       "      <td>-79.340923</td>\n",
       "      <td>4</td>\n",
       "    </tr>\n",
       "    <tr>\n",
       "      <th>4</th>\n",
       "      <td>M4N</td>\n",
       "      <td>Central Toronto</td>\n",
       "      <td>Lawrence Park</td>\n",
       "      <td>43.728020</td>\n",
       "      <td>-79.388790</td>\n",
       "      <td>2</td>\n",
       "    </tr>\n",
       "  </tbody>\n",
       "</table>\n",
       "</div>"
      ],
      "text/plain": [
       "  Postal Code          Borough                    Neighborhood   Latitude  \\\n",
       "0         M4E     East Toronto                     The Beaches  43.676357   \n",
       "1         M4K     East Toronto    The Danforth West, Riverdale  43.679557   \n",
       "2         M4L     East Toronto  India Bazaar, The Beaches West  43.668999   \n",
       "3         M4M     East Toronto                 Studio District  43.659526   \n",
       "4         M4N  Central Toronto                   Lawrence Park  43.728020   \n",
       "\n",
       "   Longitude  Label  \n",
       "0 -79.293031      4  \n",
       "1 -79.352188      4  \n",
       "2 -79.315572      4  \n",
       "3 -79.340923      4  \n",
       "4 -79.388790      2  "
      ]
     },
     "execution_count": 59,
     "metadata": {},
     "output_type": "execute_result"
    }
   ],
   "source": [
    "df7['Label']=df7['Borough'].replace(to_replace=['Downtown Toronto','Central Toronto','West Toronto','East Toronto'],value=[1,2,3,4],inplace=False)\n",
    "df7.head()"
   ]
  },
  {
   "cell_type": "markdown",
   "metadata": {},
   "source": [
    "Coordinates of Toronto"
   ]
  },
  {
   "cell_type": "code",
   "execution_count": 62,
   "metadata": {},
   "outputs": [
    {
     "name": "stdout",
     "output_type": "stream",
     "text": [
      "Geograpical coordinates of Toronto are 43.6534817, -79.3839347.\n"
     ]
    }
   ],
   "source": [
    "address = 'Toronto'\n",
    "geolocator = Nominatim(user_agent=\"toronto_explorer\")\n",
    "location = geolocator.geocode(address)\n",
    "latitude = location.latitude\n",
    "longitude = location.longitude\n",
    "print(f'Geograpical coordinates of Toronto are {latitude}, {longitude}.')"
   ]
  },
  {
   "cell_type": "markdown",
   "metadata": {},
   "source": [
    "Visualize map of Toronto"
   ]
  },
  {
   "cell_type": "code",
   "execution_count": 63,
   "metadata": {},
   "outputs": [],
   "source": [
    "kclusters=len(df7.Label.unique())\n",
    "map1 = folium.Map(location=[latitude, longitude], zoom_start=11)\n",
    "x = np.arange(kclusters)\n",
    "ys = [i + x + (i*x)**2 for i in range(kclusters)]\n",
    "colors_array = cm.rainbow(np.linspace(0, 1, len(ys)))\n",
    "rainbow = [colors.rgb2hex(i) for i in colors_array]\n",
    "markers_colors = []\n",
    "for lat, lon, cluster in zip(df7['Latitude'], df7['Longitude'], df7['Label']):\n",
    "    label = folium.Popup(str(df7['Borough']) + ' Cluster ' + str(cluster), parse_html=True)\n",
    "    folium.CircleMarker(\n",
    "        [lat, lon],\n",
    "        radius=5,\n",
    "        popup=label,\n",
    "        color=rainbow[cluster-1],\n",
    "        fill=True,\n",
    "        fill_color=rainbow[cluster-1],\n",
    "        fill_opacity=0.7).add_to(map1)\n"
   ]
  },
  {
   "cell_type": "code",
   "execution_count": 64,
   "metadata": {},
   "outputs": [
    {
     "data": {
      "text/html": [
       "<div style=\"width:100%;\"><div style=\"position:relative;width:100%;height:0;padding-bottom:60%;\"><span style=\"color:#565656\">Make this Notebook Trusted to load map: File -> Trust Notebook</span><iframe src=\"about:blank\" style=\"position:absolute;width:100%;height:100%;left:0;top:0;border:none !important;\" data-html=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 onload=\"this.contentDocument.open();this.contentDocument.write(atob(this.getAttribute('data-html')));this.contentDocument.close();\" allowfullscreen webkitallowfullscreen mozallowfullscreen></iframe></div></div>"
      ],
      "text/plain": [
       "<folium.folium.Map at 0x7f95bb55ef98>"
      ]
     },
     "execution_count": 64,
     "metadata": {},
     "output_type": "execute_result"
    }
   ],
   "source": [
    "map1"
   ]
  },
  {
   "cell_type": "code",
   "execution_count": null,
   "metadata": {},
   "outputs": [],
   "source": []
  }
 ],
 "metadata": {
  "kernelspec": {
   "display_name": "Python",
   "language": "python",
   "name": "conda-env-python-py"
  },
  "language_info": {
   "codemirror_mode": {
    "name": "ipython",
    "version": 3
   },
   "file_extension": ".py",
   "mimetype": "text/x-python",
   "name": "python",
   "nbconvert_exporter": "python",
   "pygments_lexer": "ipython3",
   "version": "3.6.12"
  }
 },
 "nbformat": 4,
 "nbformat_minor": 4
}
